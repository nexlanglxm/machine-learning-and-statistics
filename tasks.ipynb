{
 "cells": [
  {
   "cell_type": "markdown",
   "metadata": {},
   "source": [
    "# Machine Learning and Statistics Project"
   ]
  },
  {
   "cell_type": "markdown",
   "metadata": {},
   "source": [
    "### **Neil Anglim**\n",
    "***"
   ]
  },
  {
   "cell_type": "markdown",
   "metadata": {},
   "source": [
    "## Task 1"
   ]
  },
  {
   "cell_type": "markdown",
   "metadata": {},
   "source": [
    "### Square Root using Newtons method\n",
    ">Square roots are difficult to calculate. In Python, you typically use the power operator (a double asterisk) or a package such as `math.` In this task, you should write a function `sqrt(x)` to approximate the square root of a floating point number x without using the power operator or a package.\n",
    "\n",
    ">Rather, you should use the Newton’s method. Start with an initial guess for the square root called $z_0$. You then repeatedly improve it using the following formula, until the difference between some previous guess $z_i$ and the next $z_{i+1}$ is less than some threshold, say 0.01."
   ]
  },
  {
   "cell_type": "code",
   "execution_count": 1,
   "metadata": {},
   "outputs": [],
   "source": [
    "def sqrt(x) :\n",
    "    # initial guess\n",
    "    z = x / 4\n",
    "\n",
    "    while(((z**0.5) - x) != 0): #while the square root is not = the expected value\n",
    "        #loop until it is accurate\n",
    "        for i in range(100):\n",
    "            z1 = z - (((z * z) - x) / (2 * z))#newtons method\n",
    "        else: break\n",
    "\n",
    "\n",
    "    return z1\n"
   ]
  },
  {
   "cell_type": "markdown",
   "metadata": {},
   "source": [
    "##### in the above code, one must input the correct answer in line 3 to get the accurate answer"
   ]
  },
  {
   "cell_type": "code",
   "execution_count": 2,
   "metadata": {},
   "outputs": [
    {
     "data": {
      "text/plain": [
       "4.0"
      ]
     },
     "execution_count": 2,
     "metadata": {},
     "output_type": "execute_result"
    }
   ],
   "source": [
    "sqrt(16)"
   ]
  },
  {
   "cell_type": "markdown",
   "metadata": {},
   "source": [
    "> is there some other way in which I can work this...?"
   ]
  },
  {
   "cell_type": "code",
   "execution_count": 3,
   "metadata": {},
   "outputs": [
    {
     "data": {
      "text/plain": [
       "6.5"
      ]
     },
     "execution_count": 3,
     "metadata": {},
     "output_type": "execute_result"
    }
   ],
   "source": [
    "#test function on other numbers\n",
    "sqrt(36)"
   ]
  },
  {
   "cell_type": "code",
   "execution_count": 4,
   "metadata": {},
   "outputs": [
    {
     "data": {
      "text/plain": [
       "6.0"
      ]
     },
     "execution_count": 4,
     "metadata": {},
     "output_type": "execute_result"
    }
   ],
   "source": [
    "36**0.5"
   ]
  },
  {
   "cell_type": "code",
   "execution_count": null,
   "metadata": {},
   "outputs": [],
   "source": []
  },
  {
   "cell_type": "markdown",
   "metadata": {},
   "source": [
    "# Task 2"
   ]
  },
  {
   "cell_type": "markdown",
   "metadata": {},
   "source": [
    "### sci py\n",
    "> Consider the below contingency table based on a survey askingrespondents whether they prefer coffee or tea and whether they prefer plain or chocolate biscuits. Use scipy.stats to perform a chi-squared test to see whether there is any evidence of an association between drink preference and biscuit preference in this instance.\n"
   ]
  },
  {
   "cell_type": "markdown",
   "metadata": {},
   "source": [
    "To do this, I will need to develop the survey using *pandas*"
   ]
  },
  {
   "cell_type": "code",
   "execution_count": 5,
   "metadata": {},
   "outputs": [
    {
     "data": {
      "text/html": [
       "<style type=\"text/css\">\n",
       "#T_21dd3 th {\n",
       "  background-color: grey;\n",
       "  text-align: center;\n",
       "}\n",
       "</style>\n",
       "<table id=\"T_21dd3\">\n",
       "  <thead>\n",
       "    <tr>\n",
       "      <th class=\"blank level0\" >&nbsp;</th>\n",
       "      <th id=\"T_21dd3_level0_col0\" class=\"col_heading level0 col0\" >Chocolate</th>\n",
       "      <th id=\"T_21dd3_level0_col1\" class=\"col_heading level0 col1\" >Plain</th>\n",
       "    </tr>\n",
       "  </thead>\n",
       "  <tbody>\n",
       "    <tr>\n",
       "      <th id=\"T_21dd3_level0_row0\" class=\"row_heading level0 row0\" >Coffee</th>\n",
       "      <td id=\"T_21dd3_row0_col0\" class=\"data row0 col0\" >43</td>\n",
       "      <td id=\"T_21dd3_row0_col1\" class=\"data row0 col1\" >57</td>\n",
       "    </tr>\n",
       "    <tr>\n",
       "      <th id=\"T_21dd3_level0_row1\" class=\"row_heading level0 row1\" >Tea</th>\n",
       "      <td id=\"T_21dd3_row1_col0\" class=\"data row1 col0\" >56</td>\n",
       "      <td id=\"T_21dd3_row1_col1\" class=\"data row1 col1\" >45</td>\n",
       "    </tr>\n",
       "  </tbody>\n",
       "</table>\n"
      ],
      "text/plain": [
       "<pandas.io.formats.style.Styler at 0x1d0e7c389d0>"
      ]
     },
     "execution_count": 5,
     "metadata": {},
     "output_type": "execute_result"
    }
   ],
   "source": [
    "import pandas as pd\n",
    "\n",
    "# Create a sample survey dataset with quantities\n",
    "data = {\n",
    "    'Drink': ['Coffee', 'Coffee','Tea', 'Tea'],\n",
    "    'Biscuits': ['Chocolate', 'Plain', 'Chocolate', 'Plain'],\n",
    "    'Quantity': [43, 57, 56, 45]\n",
    "}\n",
    "\n",
    "# Create a DataFrame from the dataset\n",
    "df = pd.DataFrame(data)\n",
    "\n",
    "# Create a contingency table using crosstab with quantities\n",
    "contingency_table = pd.crosstab(df['Drink'], df['Biscuits'], values=df['Quantity'], aggfunc='sum', rownames=['Drink'], colnames=['Biscuits'])\n",
    "\n",
    "# Display the contingency table with clearer labels\n",
    "contingency_table.columns = ['Chocolate', 'Plain']\n",
    "contingency_table.index = ['Coffee', 'Tea']\n",
    "\n",
    "# Format the table for better readability\n",
    "contingency_table = contingency_table.style.set_table_styles([{\n",
    "    'selector': 'th',\n",
    "    'props': [('background-color', 'grey'), ('text-align', 'center')]\n",
    "}])\n",
    "\n",
    "contingency_table"
   ]
  },
  {
   "cell_type": "code",
   "execution_count": null,
   "metadata": {},
   "outputs": [],
   "source": []
  },
  {
   "cell_type": "markdown",
   "metadata": {},
   "source": [
    "*** \n",
    "# End"
   ]
  }
 ],
 "metadata": {
  "kernelspec": {
   "display_name": "base",
   "language": "python",
   "name": "python3"
  },
  "language_info": {
   "codemirror_mode": {
    "name": "ipython",
    "version": 3
   },
   "file_extension": ".py",
   "mimetype": "text/x-python",
   "name": "python",
   "nbconvert_exporter": "python",
   "pygments_lexer": "ipython3",
   "version": "3.11.4"
  }
 },
 "nbformat": 4,
 "nbformat_minor": 2
}
