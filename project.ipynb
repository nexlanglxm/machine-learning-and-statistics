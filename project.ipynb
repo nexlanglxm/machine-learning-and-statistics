{
 "cells": [
  {
   "cell_type": "markdown",
   "metadata": {},
   "source": [
    "# Machine Learning and Statistics Project"
   ]
  },
  {
   "cell_type": "markdown",
   "metadata": {},
   "source": [
    "### **Neil Anglim**\n",
    "***"
   ]
  },
  {
   "cell_type": "markdown",
   "metadata": {},
   "source": [
    "## Project Brief\n",
    "---"
   ]
  },
  {
   "cell_type": "markdown",
   "metadata": {
    "vscode": {
     "languageId": "plaintext"
    }
   },
   "source": [
    "- The project is to create a notebook exploring classification algorithms applied on the iris flower data set associated with Ronald A Fisher.\n",
    "- In your notebook, you should first explain what supervised learning is and then explain what classification algorithms are.\n",
    "- Describe at least one common classification algorithm and implement it using the scikit-learn Python library.\n",
    "- Throughout your notebook, use appropriate plots, mathematical notation, and diagrams to explain the relevant concepts.\n"
   ]
  },
  {
   "cell_type": "markdown",
   "metadata": {},
   "source": [
    "---\n",
    "## Introduction\n",
    "---"
   ]
  },
  {
   "cell_type": "markdown",
   "metadata": {},
   "source": [
    "---\n",
    "## Introduction to Supervised Learning\n",
    "---"
   ]
  },
  {
   "cell_type": "markdown",
   "metadata": {},
   "source": [
    "### What is Supervised Learning?\n",
    "Supervised learning is a branch of machine learning where algorithms learn from labeled training data. It involves training a model on input-output pairs, where the algorithm learns the mapping function from the input variables to the desired output variable (IBM, 2023). The primary goal of supervised learning is to predict the output for new, unseen data based on patterns learned from the labeled dataset.\n",
    "\n",
    "### Principles of Supervised Learning:\n",
    "- Labeled Training Data: Supervised learning algorithms require labeled training data, where each data point is associated with a known output or target variable.\n",
    "- Learning from Examples: Algorithms learn patterns and relationships between input features and their corresponding labels through examples provided in the training data.\n",
    "- Generalization: The learned patterns should generalize well to unseen data to make accurate predictions or classifications.\n",
    "\n",
    "### Importance of Labeled Data in Training:\n",
    "Labeled data forms the foundation of supervised learning. The availability of high-quality labeled datasets is crucial for training accurate and reliable predictive models. Some key aspects include:\n",
    "#### Training the Model: \n",
    "- Labeled data serves as a guide for the model during the learning process. It helps the algorithm understand the relationship between inputs and outputs.\n",
    "#### Model Evaluation:\n",
    "- Labeled data facilitates the evaluation of the model's performance. The model predictions can be compared against the true labels to assess accuracy and determine the model's effectiveness.\n",
    "#### Iterative Improvement:\n",
    "- With access to labeled data, models can be continuously refined and improved through iterations, leading to better performance and generalization.\n",
    "#### Challenges:\n",
    "- Acquiring high-quality labeled data can be challenging and costly in some domains. Noisy or incorrect labels might negatively impact model performance.\n",
    "\n",
    "In the context of the Iris Dataset project, supervised learning techniques will be employed to classify the species of iris flowers based on their features. Exploring various classification algorithms will demonstrate how supervised learning is applied to this specific dataset."
   ]
  },
  {
   "cell_type": "markdown",
   "metadata": {},
   "source": [
    "---\n",
    "## Understanding Classification Algorithms\n",
    "---"
   ]
  },
  {
   "cell_type": "markdown",
   "metadata": {},
   "source": [
    "---\n",
    "## Exploring the Iris Datset\n",
    "---"
   ]
  },
  {
   "cell_type": "markdown",
   "metadata": {},
   "source": [
    "---\n",
    "## Introduction to Learning Algorithms (k-NN & SVM)\n",
    "---"
   ]
  },
  {
   "cell_type": "markdown",
   "metadata": {},
   "source": [
    "---\n",
    "## Implementation of the chosen algorithm using scikit-learn\n",
    "---"
   ]
  },
  {
   "cell_type": "markdown",
   "metadata": {},
   "source": [
    "For the purpose of this project, kNN will be sufficient. SVM is a bit excessive/overpowered"
   ]
  },
  {
   "cell_type": "markdown",
   "metadata": {},
   "source": [
    "***\n",
    "# End"
   ]
  }
 ],
 "metadata": {
  "language_info": {
   "name": "python"
  }
 },
 "nbformat": 4,
 "nbformat_minor": 2
}
